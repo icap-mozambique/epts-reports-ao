{
 "cells": [
  {
   "cell_type": "code",
   "execution_count": 1,
   "metadata": {},
   "outputs": [],
   "source": [
    "import pandas as pd\n",
    "from dhis2 import Api\n",
    "\n",
    "from src.main.common import FileUtil\n",
    "from src.main.common import LoggingConfig\n",
    "from src.main.application.income import *\n",
    "from src.main.application.service import *\n",
    "from src.infrastructure.forms import *\n",
    "from src.infrastructure.adapters import *"
   ]
  },
  {
   "cell_type": "code",
   "execution_count": 2,
   "metadata": {},
   "outputs": [],
   "source": [
    "credentials = FileUtil.load_credentias()\n",
    "username = credentials['username']\n",
    "password = credentials['password']\n",
    "\n",
    "url = 'https://dhis-ao.icap.columbia.edu'\n",
    "api = Api(url, username, password)"
   ]
  },
  {
   "cell_type": "code",
   "execution_count": 3,
   "metadata": {},
   "outputs": [],
   "source": [
    "# Get the list of supported facilities\n",
    "org_units = api.get('organisationUnitGroups/gH2DlwAo1ja', params={'fields':'organisationUnits'}).json()['organisationUnits']"
   ]
  },
  {
   "cell_type": "code",
   "execution_count": 4,
   "metadata": {},
   "outputs": [],
   "source": [
    "# period of analysis\n",
    "start_period = '2024-04-01'\n",
    "end_period = '2024-06-30'\n",
    "period = '2024Q2'"
   ]
  },
  {
   "cell_type": "code",
   "execution_count": 5,
   "metadata": {},
   "outputs": [],
   "source": [
    "hts_data = pd.DataFrame(columns=['dataElement','period','orgUnit', 'categoryOptionCombo','attributeOptionCombo', 'value'])\n",
    "hts_data.to_csv('HTS_DATA.csv', index=False)\n",
    "\n",
    "patient_event_form = PatientEventForm(api)\n",
    "patient_demographic_form = PatientDemographicForm(api)\n",
    "event_port = EventAdapter(patient_event_form)\n",
    "patient_demographics_port = PatientDemographicsAdapter(patient_demographic_form)\n",
    "\n",
    "compute_hts_vct = ComputeHtsVctService(event_port, patient_demographics_port)\n",
    "vct_metadata_port = VctIndicatorMetadataAdapter(api)\n",
    "vct_patients_disaggregation = ComputeHtsDisaggregationService(vct_metadata_port)\n",
    "\n",
    "compute_hts_pregnant = ComputeHtsPregnantLdService(event_port, patient_demographics_port)\n",
    "pregnant_metadata_port = PregnantIndicatorMetadataAdapter(api)\n",
    "pregnant_patients_disaggregation = ComputeHtsDisaggregationService(pregnant_metadata_port)\n",
    "\n",
    "compute_hts_breastfeeding = ComputeHtsBreastfeedingService(event_port, patient_demographics_port)\n",
    "breastfeeding_metadata_port = BreastfeedingIndicatorMetadataAdapter(api)\n",
    "breastfeeding_patients_disaggregation = ComputeHtsDisaggregationService(breastfeeding_metadata_port)\n",
    "\n",
    "compute_hts_other_pitc = ComputeHtsOtherPitcService(event_port, patient_demographics_port)\n",
    "other_pitc_metadata_port = OtherPitcIndicadorMetadataAdapter(api)\n",
    "other_pitc_patients_disaggregation = ComputeHtsDisaggregationService(other_pitc_metadata_port)\n",
    "\n",
    "compute_hts_emergence_ward = ComputeHtsEmergenceWardService(event_port, patient_demographics_port)\n",
    "emergence_ward_port = EmergenceWardIndicatorMetadataAdapter(api)\n",
    "emergenc_ward_patients_disaggregation = ComputeHtsDisaggregationService(emergence_ward_port)\n",
    "\n",
    "compute_hts_inpatient = ComputeHtsInpatientService(event_port, patient_demographics_port)\n",
    "inpatient_port = InpatientIndicatorMetadataAdapter(api)\n",
    "inpatient_patients_disaggregation = ComputeHtsDisaggregationService(inpatient_port)\n",
    "\n",
    "compute_hts_malnutrition = ComputeHtsMalnutritionService(event_port, patient_demographics_port)\n",
    "malnutrition_port = MalnutritionIndicatorMetadataAdapter(api)\n",
    "malnutrition_patients_disaggregation = ComputeHtsDisaggregationService(malnutrition_port)\n",
    "\n",
    "# compute_hts_index_case = ComputeHtsIndexCaseService(event_port)\n",
    "# index_case_port = IndexCaseIndicatorMetadataAdapter(api)\n",
    "# index_case_patients_disaggregation = ComputeHtsDisaggregationService(index_case_port)\n",
    "\n",
    "for org_unit in org_units:\n",
    "\n",
    "    org_unit = org_unit['id']\n",
    "\n",
    "    vct_patients = compute_hts_vct.compute(org_unit, start_period, end_period)\n",
    "    vct_patients_disaggregated = vct_patients_disaggregation.compute(vct_patients, end_period)\n",
    "\n",
    "    pregnant_patients = compute_hts_pregnant.compute(org_unit, start_period, end_period)\n",
    "    pregnant_patients_disaggregated = pregnant_patients_disaggregation.compute(pregnant_patients, end_period)\n",
    "\n",
    "    breastfeeding_patients = compute_hts_breastfeeding.compute(org_unit, start_period, end_period)\n",
    "    breastfeeding_patients_disaggregated = breastfeeding_patients_disaggregation.compute(breastfeeding_patients, end_period)\n",
    "\n",
    "    other_pitc_patients = compute_hts_other_pitc.compute(org_unit, start_period, end_period)\n",
    "    other_pitc_patients_disaggregated = other_pitc_patients_disaggregation.compute(other_pitc_patients, end_period)\n",
    "\n",
    "    emergence_ward_patients = compute_hts_emergence_ward.compute(org_unit, start_period, end_period)\n",
    "    emergence_ward_patients_disaggregated = emergenc_ward_patients_disaggregation.compute(emergence_ward_patients, end_period)\n",
    "\n",
    "    inpatients = compute_hts_inpatient.compute(org_unit, start_period, end_period)\n",
    "    inpatients_disaggregated = inpatient_patients_disaggregation.compute(inpatients, end_period)\n",
    "\n",
    "    maltnutrition_patients = compute_hts_malnutrition.compute(org_unit, start_period, end_period)\n",
    "    malnutrition_patients_disaggregated = malnutrition_patients_disaggregation.compute(maltnutrition_patients, end_period)\n",
    "\n",
    "    combination = vct_patients_disaggregated + pregnant_patients_disaggregated + breastfeeding_patients_disaggregated + other_pitc_patients_disaggregated + emergence_ward_patients_disaggregated + inpatients_disaggregated + malnutrition_patients_disaggregated\n",
    "\n",
    "    if combination:\n",
    "        hts = pd.json_normalize(combination)\n",
    "        hts['period'] = period\n",
    "        hts = hts[['dataElement','period','orgUnit', 'categoryOptionCombo','attributeOptionCombo', 'value']]\n",
    "        hts_data = pd.read_csv('HTS_DATA.csv')\n",
    "        hts_data = pd.concat([hts_data, hts])\n",
    "        hts_data = hts_data.sort_values(['orgUnit', 'dataElement', 'period'])\n",
    "        hts_data.to_csv('HTS_DATA.csv', index=False)"
   ]
  }
 ],
 "metadata": {
  "kernelspec": {
   "display_name": "Python 3",
   "language": "python",
   "name": "python3"
  },
  "language_info": {
   "codemirror_mode": {
    "name": "ipython",
    "version": 3
   },
   "file_extension": ".py",
   "mimetype": "text/x-python",
   "name": "python",
   "nbconvert_exporter": "python",
   "pygments_lexer": "ipython3",
   "version": "3.8.2"
  }
 },
 "nbformat": 4,
 "nbformat_minor": 2
}
