{
 "cells": [
  {
   "cell_type": "code",
   "execution_count": null,
   "metadata": {},
   "outputs": [],
   "source": [
    "import pandas as pd\n",
    "from dhis2 import Api\n",
    "\n",
    "from src.main.common import FileUtil\n",
    "from src.main.common import LoggingConfig\n",
    "from src.main.application.income import *\n",
    "from src.main.application.service import *\n",
    "from src.infrastructure.forms import *\n",
    "from src.infrastructure.adapters import *"
   ]
  },
  {
   "cell_type": "code",
   "execution_count": null,
   "metadata": {},
   "outputs": [],
   "source": [
    "credentials = FileUtil.load_credentias()\n",
    "username = credentials['username']\n",
    "password = credentials['password']\n",
    "\n",
    "url = 'https://dhis-ao.icap.columbia.edu'\n",
    "api = Api(url, username, password)"
   ]
  },
  {
   "cell_type": "code",
   "execution_count": null,
   "metadata": {},
   "outputs": [],
   "source": [
    "# Get the list of supported facilities\n",
    "org_unit_group = 'gH2DlwAo1ja'\n",
    "org_units = api.get(f'organisationUnitGroups/{org_unit_group}', params={'fields':'organisationUnits'}).json()['organisationUnits']"
   ]
  },
  {
   "cell_type": "code",
   "execution_count": null,
   "metadata": {},
   "outputs": [],
   "source": [
    "# period of analysis\n",
    "start_period = '2024-04-01'\n",
    "end_period = '2024-06-30'\n",
    "period = '2024Q2'\n",
    "mecanism = 81002"
   ]
  },
  {
   "cell_type": "code",
   "execution_count": null,
   "metadata": {},
   "outputs": [],
   "source": [
    "data_element_group = 'VPHRxGDLoLM'\n",
    "data_values = api.get('dataValueSets', params ={'fields':'dataElement, period, orgUnit, categoryOptionCombo, attributeOptionCombo, value', 'period':period, 'orgUnitGroup':org_unit_group, 'dataElementGroup':data_element_group})\n",
    "data_values = data_values.json()['dataValues']"
   ]
  },
  {
   "cell_type": "code",
   "execution_count": null,
   "metadata": {},
   "outputs": [],
   "source": [
    "data_elements = api.get(f'dataElementGroups/{data_element_group}', params={'fields':'dataElements'})\n",
    "data_elements = data_elements.json()['dataElements']"
   ]
  },
  {
   "cell_type": "code",
   "execution_count": null,
   "metadata": {},
   "outputs": [],
   "source": [
    "for data_element in data_elements:\n",
    "\n",
    "    data_element_id = data_element['id']\n",
    "\n",
    "    indicators_metadata = api.get('dataElementOperands', params={'paging':False, 'fields':'id,name', 'filter':f'dataElement.id:eq:{data_element_id}'})\n",
    "    indicators_metadata = indicators_metadata.json()['dataElementOperands']\n",
    "\n",
    "    for metadata_indicator in indicators_metadata:\n",
    "\n",
    "        for data_value in data_values:\n",
    "            \n",
    "            data_value_id = data_value['dataElement']+'.'+ data_value['categoryOptionCombo']\n",
    "            indicator_id = metadata_indicator['id']\n",
    "            indicator_name = metadata_indicator['name']\n",
    "\n",
    "            if data_value_id == indicator_id:\n",
    "                name = indicator_name\n",
    "                name = name.replace('MER_', '')\n",
    "                name = name.replace('MER25_', '')\n",
    "                name = name.replace('Known at Entry Positive', 'Known Positives')\n",
    "                name = name.replace('Newly Identified Positive', 'Newly Tested Positives')\n",
    "                name = name.replace('Newly Identified Negative', 'New Negatives')\n",
    "                name = name.replace('PMTCT_ART (N, TA, Age/NewExistingArt/Sex/HIVStatus)', 'PMTCT_ART (N, TA, Age/Sex/NewExistingArt/HIVStatus)')\n",
    "                name = name.replace('PMTCT_HEI_POS_ART (N, TA, Age/HIVStatus/ARTStatus): Infant Testing 2 - 12 months, Positive, Receiving ART', 'PMTCT_HEI_POS_ART (N, TA, Age/HIVStatus/ARTStatus): Infant Testing 2 - 12 months , Positive, Receiving ART')\n",
    "\n",
    "                # TX_RTT_IIT\n",
    "                if data_value['dataElement'] == 'euQty0yYWEk':\n",
    "                    name = name.replace('Months Treatment', 'Months Interruption')\n",
    "\n",
    "                # TX_RTT\n",
    "                if data_value['dataElement'] == 'EXHtjo00lEh':\n",
    "                    name_main = 'TX_RTT (N, TA, Age/Sex/CD4/HIVStatus): Restarted ARV '\n",
    "                    name_description = name.split(name_main)[1]\n",
    "                    name_description = name_description.split(', ')[3]+', '+name_description.split(', ')[0]+', '+name_description.split(', ')[1]+', '+name_description.split(', ')[2]\n",
    "                    name = name_main+name_description\n",
    "\n",
    "                # TX_NEW\n",
    "                if data_value['dataElement'] == 'qXkiKCAX5yX':\n",
    "                    name_main = 'TX_NEW (N, TA, Age/Sex/CD4/HIVStatus): New on ART '\n",
    "                    name_description = name.split(name_main)[1]\n",
    "                    name_description = name_description.split(', ')[3]+', '+name_description.split(', ')[0]+', '+name_description.split(', ')[1]+', '+name_description.split(', ')[2]\n",
    "                    name = name_main+name_description\n",
    "                \n",
    "                # TX_ML\n",
    "                if data_value['dataElement'] == 'hvt2KcpoLMp':\n",
    "                    name = name.replace('No Contact Outcome - Interruption In Treatment (6+ Months Treatment), Positive', 'Positive, No Contact Outcome - Interruption In Treatment (6+ Months Treatment)')\n",
    "                    name_main = 'TX_ML (N, TA, Age/Sex/ARTNoContactReason/HIVStatus): On ART no clinical contact '\n",
    "                    name_description = name.split(name_main)[1]\n",
    "\n",
    "                    if name_description.split(', ')[3] == 'Positive':\n",
    "                        name_description = name_description.split(', ')[0]+', '+name_description.split(', ')[1]+', '+name_description.split(', ')[3]+', '+name_description.split(', ')[2]\n",
    "                        name = name_main+name_description\n",
    "\n",
    "                data_value['data_value_name'] = name\n",
    "\n",
    "                # Fix facilities\n",
    "                if data_value['orgUnit'] == 'U3j0Fn86BVV':\n",
    "                   data_value['orgUnit'] = 'uonm9XithMw'\n",
    "\n",
    "                if data_value['orgUnit'] == 'ZYfAiZnlNsQ':\n",
    "                   data_value['orgUnit'] = 'GGEtuWJUhLH'\n",
    "\n",
    "                if data_value['orgUnit'] == 'dtAHOODVMmB':\n",
    "                   data_value['orgUnit'] = 'zLJdhkaPocX'\n",
    "\n",
    "                if data_value['orgUnit'] == 'KYB11OcHLUo':\n",
    "                   data_value['orgUnit'] = 'QFPMqEHV52d'\n",
    "\n",
    "                if data_value['orgUnit'] == 'oprOfxPSkim':\n",
    "                   data_value['orgUnit'] = 'Tp2GlPj1Zp9'\n",
    "\n",
    "                if data_value['orgUnit'] == 'K4Rp81pn9ke':\n",
    "                   data_value['orgUnit'] = 'RUQjZiHdXwL'"
   ]
  },
  {
   "cell_type": "code",
   "execution_count": null,
   "metadata": {},
   "outputs": [],
   "source": [
    "saurino_atip_data = {}\n",
    "\n",
    "for data_value in data_values:\n",
    "\n",
    "    if data_value['orgUnit'] == 'RUQjZiHdXwL':\n",
    "\n",
    "        indicator_key = data_value['dataElement']+ '.'+data_value['categoryOptionCombo']\n",
    "\n",
    "        if indicator_key not in saurino_atip_data:\n",
    "           saurino_atip_data[indicator_key] = data_value\n",
    "        else:\n",
    "           saurino_atip_data[indicator_key]['value'] = int(saurino_atip_data[indicator_key]['value']) + int(data_value['value'])\n",
    "\n",
    "saurino_atip_data = list(saurino_atip_data.values())"
   ]
  },
  {
   "cell_type": "code",
   "execution_count": null,
   "metadata": {},
   "outputs": [],
   "source": [
    " # remove old data\n",
    "new_data_values = []\n",
    "\n",
    "for data_value in data_values:\n",
    "    \n",
    "    if data_value['orgUnit'] != 'RUQjZiHdXwL':\n",
    "        new_data_values.append(data_value)\n",
    "\n",
    "data_values = new_data_values\n",
    "data_values = data_values + saurino_atip_data"
   ]
  },
  {
   "cell_type": "code",
   "execution_count": null,
   "metadata": {},
   "outputs": [],
   "source": [
    "len(data_values)"
   ]
  },
  {
   "cell_type": "code",
   "execution_count": null,
   "metadata": {},
   "outputs": [],
   "source": [
    "data_values = pd.json_normalize(data_values)\n",
    "\n",
    "datim_data = pd.read_csv('DATIM_DATA_ELEMENTS.csv')\n",
    "datim_data = datim_data[['dataelement', 'categoryoptioncombo', 'categoryoptioncombocode']]\n",
    "datim_data['name'] = datim_data['dataelement']+' '+datim_data['categoryoptioncombo']\n",
    "data_values = pd.merge(data_values, datim_data, left_on=['data_value_name'], right_on='name', how='left')\n",
    "data_values['categoryOptionCombo'] = data_values['categoryoptioncombocode']\n",
    "data_values['attributeOptionCombo'] = mecanism\n",
    "data_values = data_values[['dataElement','period','orgUnit', 'categoryOptionCombo','attributeOptionCombo', 'value']]\n",
    "\n",
    "data_values.to_csv('MER_DATA.csv', index=False)"
   ]
  }
 ],
 "metadata": {
  "kernelspec": {
   "display_name": "Python 3",
   "language": "python",
   "name": "python3"
  },
  "language_info": {
   "codemirror_mode": {
    "name": "ipython",
    "version": 3
   },
   "file_extension": ".py",
   "mimetype": "text/x-python",
   "name": "python",
   "nbconvert_exporter": "python",
   "pygments_lexer": "ipython3",
   "version": "3.8.2"
  }
 },
 "nbformat": 4,
 "nbformat_minor": 2
}
