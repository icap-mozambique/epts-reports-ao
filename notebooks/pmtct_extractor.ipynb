{
 "cells": [
  {
   "cell_type": "code",
   "execution_count": 1,
   "metadata": {},
   "outputs": [],
   "source": [
    "import pandas as pd\n",
    "from dhis2 import Api\n",
    "\n",
    "from src.main.common import FileUtil\n",
    "from src.main.common import LoggingConfig\n",
    "from src.main.application.income import *\n",
    "from src.main.application.service import *\n",
    "from src.infrastructure.forms import *\n",
    "from src.infrastructure.adapters import *"
   ]
  },
  {
   "cell_type": "code",
   "execution_count": 2,
   "metadata": {},
   "outputs": [],
   "source": [
    "credentials = FileUtil.load_credentias()\n",
    "username = credentials['username']\n",
    "password = credentials['password']\n",
    "\n",
    "url = 'https://dhis-ao.icap.columbia.edu'\n",
    "api = Api(url, username, password)"
   ]
  },
  {
   "cell_type": "code",
   "execution_count": 3,
   "metadata": {},
   "outputs": [],
   "source": [
    "# Get the list of supported facilities\n",
    "org_units = api.get('organisationUnitGroups/gH2DlwAo1ja', params={'fields':'organisationUnits'}).json()['organisationUnits']"
   ]
  },
  {
   "cell_type": "code",
   "execution_count": 4,
   "metadata": {},
   "outputs": [],
   "source": [
    "# enrollments = pd.DataFrame(columns=['enrollment', 'trackedEntity', 'program', 'status', 'orgUnit', 'enrolledAt', 'patientIdentifier', 'patientAge', 'patientSex','patientName', 'ancType', 'testResult', 'artStartDate', 'artStatus', 'onArt'])\n",
    "# enrollments.to_csv('PMTCT_ENROLLMENTS.csv', index=False)"
   ]
  },
  {
   "cell_type": "code",
   "execution_count": 5,
   "metadata": {},
   "outputs": [],
   "source": [
    "# period of analysis\n",
    "start_period = '2024-04-01'\n",
    "end_period = '2024-06-30'\n",
    "period = '2024Q2'"
   ]
  },
  {
   "cell_type": "code",
   "execution_count": 6,
   "metadata": {},
   "outputs": [],
   "source": [
    "# Logger\n",
    "config = FileUtil.load_logging_config()\n",
    "logging_config = LoggingConfig(config)\n",
    "logger = logging_config.logging_setup()"
   ]
  },
  {
   "cell_type": "code",
   "execution_count": 7,
   "metadata": {},
   "outputs": [],
   "source": [
    "# Load patients enrolled\n",
    "# patient_demographics = PatientDemographicForm(api)\n",
    "# patient_events = PatientEventForm(api)\n",
    "\n",
    "# for org_unit in org_units[25:]:\n",
    "\n",
    "#     org_unit = org_unit['id']\n",
    "\n",
    "#     #get all patient enrollments\n",
    "#     patients_enrolled = api.get('tracker/enrollments', params={'orgUnit':org_unit, 'skipPaging':'true', 'program': PTV, 'fields':'{,enrollment, enrolledAt, orgUnit, trackedEntity, program, status,}', 'enrolledAfter':f'{start_period}', 'enrolledBefore':f'{end_period}', 'order':'enrolledAt:desc'})\n",
    "#     patients_enrolled = patients_enrolled.json()['instances']\n",
    "\n",
    "#     logger.info(f\"Processing the facility: {org_unit}, a total of {len(patients_enrolled)} enrolled patient(s)\")\n",
    "    \n",
    "#     counter = 1\n",
    "\n",
    "#     for patient_enrolled in patients_enrolled:\n",
    "#         patient_id = patient_enrolled['trackedEntity']\n",
    "\n",
    "#         patient_demographics.add_demographics(patient_enrolled)\n",
    "#         patient_events.add_patient_first_anc_event(patient_enrolled)\n",
    "\n",
    "#         logger.info(f\"From {len (patients_enrolled)} patietnts enrolled, {counter} (is) are ready to be processed.\")\n",
    "#         counter = counter + 1 \n",
    "\n",
    "#     if patients_enrolled:\n",
    "#         patients_enrolled = pd.json_normalize(patients_enrolled)\n",
    "        \n",
    "#         enrollments = pd.read_csv('PMTCT_ENROLLMENTS.csv')\n",
    "#         enrollments = pd.concat([enrollments, patients_enrolled])\n",
    "#         enrollments.to_csv('PMTCT_ENROLLMENTS.csv', index=False, encoding='utf-8')"
   ]
  },
  {
   "cell_type": "code",
   "execution_count": 8,
   "metadata": {},
   "outputs": [],
   "source": [
    "enrollments = pd.read_csv('PMTCT_ENROLLMENTS.csv')\n",
    "enrollments = enrollments.to_dict(orient='records')\n",
    "\n",
    "pmtct_art_numerator_service = ComputePmtctArtNumeratorService()\n",
    "pmtct_art_numerator_patients = pmtct_art_numerator_service.compute(enrollments)\n",
    "pmtct_art_numerator_indicator_metadata_port = PmtctArtNumeratorIndicatorMetadataAdapter(api)\n",
    "pmtct_art_numerator_disaggegation_service = ComputePmtctArtNumeratorDisaggregationService(logger, pmtct_art_numerator_indicator_metadata_port)\n",
    "pmtct_art_numerator_patients_disaggregation = pmtct_art_numerator_disaggegation_service.compute(pmtct_art_numerator_patients, end_period)\n",
    "\n",
    "pmtct_stat_denominator_service = ComputePmtctStatDenominatorService()\n",
    "pmtct_stat_denominator_patients = pmtct_stat_denominator_service.compute(enrollments)\n",
    "pmtct_stat_denominator_indicator_metadata_port = PmtctStatDenominatorIndicatorMetadataAdapter(api)\n",
    "pmtct_stat_denominator_disaggregation_service = ComputePmtctStatDenominatorDisaggregationService(logger, pmtct_stat_denominator_indicator_metadata_port)\n",
    "pmtct_stat_denominator_patients_disaggregation = pmtct_stat_denominator_disaggregation_service.compute(pmtct_stat_denominator_patients, end_period)\n",
    "\n",
    "pmtct_stat_numerator_service = ComputePmtctStatNumeratorService()\n",
    "pmtct_stat_numerator_patients = pmtct_stat_numerator_service.compute(enrollments)\n",
    "pmtct_stat_numerator_indicator_metadata_port = PmtctStatNumeratorIndicatorMetadataAdapter(api)\n",
    "pmtct_stat_numerator_disaggregation_service = ComputePmtctStatNumeratorDisaggregationService(logger, pmtct_stat_numerator_indicator_metadata_port)\n",
    "pmtct_stat_numerator_patients_disaggregation = pmtct_stat_numerator_disaggregation_service.compute(pmtct_stat_numerator_patients, end_period)\n",
    "\n",
    "combination = pmtct_art_numerator_patients_disaggregation + pmtct_stat_denominator_patients_disaggregation + pmtct_stat_numerator_patients_disaggregation\n",
    "\n",
    "if combination:\n",
    "    # extract data\n",
    "    indicators = pd.json_normalize(combination)\n",
    "    indicators['period'] = period\n",
    "    indicators = indicators[['dataElement','period','orgUnit', 'categoryOptionCombo','attributeOptionCombo', 'value']]\n",
    "    indicators = indicators.sort_values(['orgUnit', 'dataElement', 'period'])\n",
    "    indicators.to_csv('PMTCT_DATA.csv', index=False)"
   ]
  }
 ],
 "metadata": {
  "kernelspec": {
   "display_name": "Python 3",
   "language": "python",
   "name": "python3"
  },
  "language_info": {
   "codemirror_mode": {
    "name": "ipython",
    "version": 3
   },
   "file_extension": ".py",
   "mimetype": "text/x-python",
   "name": "python",
   "nbconvert_exporter": "python",
   "pygments_lexer": "ipython3",
   "version": "3.8.2"
  }
 },
 "nbformat": 4,
 "nbformat_minor": 2
}
