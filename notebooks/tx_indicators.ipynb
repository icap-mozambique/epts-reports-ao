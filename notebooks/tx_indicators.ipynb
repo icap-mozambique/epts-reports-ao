{
 "cells": [
  {
   "cell_type": "code",
   "execution_count": null,
   "metadata": {},
   "outputs": [],
   "source": [
    "import pandas as pd\n",
    "from dhis2 import Api\n",
    "\n",
    "from src.main.common import FileUtil\n",
    "from src.main.common import LoggingConfig\n",
    "from src.main.application.income import *\n",
    "from src.main.application.service import *\n",
    "from src.infrastructure.forms import *\n",
    "from src.infrastructure.adapters import *"
   ]
  },
  {
   "cell_type": "code",
   "execution_count": null,
   "metadata": {},
   "outputs": [],
   "source": [
    "credentials = FileUtil.load_credentias()\n",
    "username = credentials['username']\n",
    "password = credentials['password']\n",
    "\n",
    "url = 'https://dhis-ao.icap.columbia.edu'\n",
    "api = Api(url, username, password)"
   ]
  },
  {
   "cell_type": "code",
   "execution_count": null,
   "metadata": {},
   "outputs": [],
   "source": [
    "# Get the list of supported facilities\n",
    "org_units = api.get('organisationUnitGroups/gH2DlwAo1ja', params={'fields':'organisationUnits'}).json()['organisationUnits']"
   ]
  },
  {
   "cell_type": "code",
   "execution_count": null,
   "metadata": {},
   "outputs": [],
   "source": [
    "# period of analysis\n",
    "start_period = '2024-04-01'\n",
    "end_period = '2024-06-30'\n",
    "period = '2024Q2'"
   ]
  },
  {
   "cell_type": "code",
   "execution_count": null,
   "metadata": {},
   "outputs": [],
   "source": [
    "# Indicator preparattion\n",
    "config = FileUtil.load_logging_config()\n",
    "logging_config = LoggingConfig(config)\n",
    "logger = logging_config.logging_setup()\n",
    "\n",
    "tx_curr_service = ComputeTxCurrService(logger)\n",
    "tx_new_service = ComputeTxNewService(tx_curr_service, logger)\n",
    "\n",
    "tx_curr_indicator_metadata_port = TxCurrIndicatorMetadataAdapter(api)\n",
    "arv_dispense_indicator_metadata_port = ArvDispenseIndicatorMetadataAdapter(api)\n",
    "tx_new_indicator_metadata_port = TxNewIndicatorMetadataAdapter(api)\n",
    "\n",
    "tx_curr_disaggregation_service = ComputeTxCurrDisaggregationService(tx_curr_indicator_metadata_port, arv_dispense_indicator_metadata_port, logger)\n",
    "tx_new_disaggretation_service = ComputeTxNewDisaggregationService(tx_new_indicator_metadata_port, logger)\n",
    "\n",
    "tx_ml_indicator_metadata_port = TxMlIndicatorMetadataAdapter(api)\n",
    "tx_ml_service = ComputeTxMlService(logger)\n",
    "tx_ml_disaggregation_service = ComputeTxMlDisaggregationService(tx_ml_indicator_metadata_port)\n",
    "\n",
    "patient_consultation_form = PatientConsultationForm(api)\n",
    "consultation_port = ConsultationAdapter(patient_consultation_form)\n",
    "patient_laboratoty_form = PatientLaboratoryForm(logger,api)\n",
    "laboratory_port = LaboratoryAdapter(patient_laboratoty_form)\n",
    "\n",
    "tx_pvls_denominator_service = ComputeTxPvlsDenominatorService(logger, tx_curr_service, laboratory_port, consultation_port)\n",
    "tx_pvls_numerator_service = ComputeTxPvlsNumeratorService()\n",
    "\n",
    "tx_pvls_denominator_indicator_metadata_port = TxPvlsDenominatorIndicatorMetadataAdapter(api)\n",
    "tx_pvls_denominator_pred_breast_indicator_metadata_port = TxPvlsDenominatorPregBreastIndicatorMetadataAdapter(api)\n",
    "tx_pvls_denominator_disaggregation_service = ComputeTxPvlsDenominatorDisaggregationService(tx_pvls_denominator_indicator_metadata_port, tx_pvls_denominator_pred_breast_indicator_metadata_port)\n",
    "\n",
    "tx_pvls_numerator_indicator_metadata_port = TxPvlsNumeratorIndicatorMetadataAdapter(api)\n",
    "tx_pvls_numerator_pred_breast_indicator_metadata_port = TxPvlsNumeratorPregBreastIndicatorMetadataAdapter(api)\n",
    "tx_pvls_numerator_disaggregation_service = ComputeTxPvlsNumeratorDisaggregationService(tx_pvls_numerator_indicator_metadata_port, tx_pvls_numerator_pred_breast_indicator_metadata_port)\n",
    "\n",
    "pharmacy_form = PatientPharmacyForm(logger, api)\n",
    "pharmacy_port = PharmacyAdapter(pharmacy_form)\n",
    "tx_rtt_service = ComputeTxRttService(logger, pharmacy_port, tx_curr_service)\n",
    "tx_rtt_indicator_metadata_port = TxRttIndicatorMetadataAdapter(api)\n",
    "tx_rtt_itt_indicator_metadata_port = TxRttIttIndicatorMetadataAdapter(api)\n",
    "tx_rtt_disaggregation_service = ComputeTxRttDisaggregationService(logger, tx_rtt_indicator_metadata_port, tx_rtt_itt_indicator_metadata_port)"
   ]
  },
  {
   "cell_type": "code",
   "execution_count": null,
   "metadata": {},
   "outputs": [],
   "source": [
    "# enrollments = pd.DataFrame(columns=['enrollment', 'trackedEntity', 'program', 'status', 'orgUnit', 'enrolledAt', 'patientIdentifier', 'patientAge', 'patientSex','patientName', \n",
    "#                                     'artStartDate', 'firstConsultationDate','pickupQuantity', 'lastPickupDate', 'nextPickupDate', 'lastCD4', 'viralLoadResultDate', \n",
    "#                                     'viralLoadResultValue', 'transferedOut', 'dateOfTransfer','dead', 'dateOfDeath'])\n",
    "\n",
    "# enrollments.to_csv('ENROLLMENTS.csv', index=False)"
   ]
  },
  {
   "cell_type": "code",
   "execution_count": null,
   "metadata": {},
   "outputs": [],
   "source": [
    "# # Load patients enrolled\n",
    "# for org_unit in org_units:\n",
    "\n",
    "#     org_unit = org_unit['id']\n",
    "\n",
    "#     #get all patient enrollments\n",
    "#     patients_enrolled = api.get('tracker/enrollments', params={'orgUnit':org_unit, 'skipPaging':'true', 'program': CARE_AND_TREATMENT, 'fields':'{,enrollment, enrolledAt, orgUnit, trackedEntity, program, status,}'})\n",
    "#     patients_enrolled = patients_enrolled.json()['instances']\n",
    "\n",
    "#     logger.info(f\"Processing the facility: {org_unit}, a total of {len(patients_enrolled)} enrolled patient(s)\")\n",
    "    \n",
    "#     counter = 1\n",
    "\n",
    "#     for patient_enrolled in patients_enrolled:\n",
    "#         patient_id = patient_enrolled['trackedEntity']\n",
    "\n",
    "#         patient_demographics = PatientDemographicForm(api)\n",
    "#         patient_demographics.add_demographics(patient_enrolled)\n",
    "\n",
    "#         patient_consultation= PatientConsultationForm(patient_id, org_unit, api)\n",
    "#         patient_consultation.add_first_consultation(patient_enrolled)\n",
    "\n",
    "#         patient_pharmacy_form =  PatientPharmacyForm(patient_id, org_unit, api)\n",
    "#         patient_pharmacy_form.add_last_pharmacy(patient_enrolled, end_period)\n",
    "\n",
    "#         patient_laboratory_from =  PatientLaboratoryForm(patient_id, org_unit, api)\n",
    "#         patient_laboratory_from.add_laboratory(patient_enrolled)\n",
    "\n",
    "#         patient_outcome_form =  PatientOutcomeForm(patient_id, org_unit, api)\n",
    "#         patient_outcome_form.add_final_outcome(patient_enrolled)\n",
    "\n",
    "#         logger.info(f\"From {len (patients_enrolled)} patietnts enrolled, {counter} (is) are ready to be processed.\")\n",
    "#         counter = counter + 1 \n",
    "\n",
    "#     if patients_enrolled:\n",
    "#         patients_enrolled = pd.json_normalize(patients_enrolled)\n",
    "        \n",
    "#         enrollments = pd.read_csv('ENROLLMENTS.csv')\n",
    "#         enrollments = pd.concat([enrollments, patients_enrolled])\n",
    "#         enrollments.to_csv('ENROLLMENTS.csv', index=False, encoding='utf-8')"
   ]
  },
  {
   "cell_type": "code",
   "execution_count": null,
   "metadata": {},
   "outputs": [],
   "source": [
    "enrollments = pd.read_csv('ENROLLMENTS.csv')\n",
    "enrollments = enrollments.to_dict(orient='records')\n",
    "\n",
    "tx_curr_patients = tx_curr_service.compute(enrollments, end_period)\n",
    "tx_curr_patients_disaggregation = tx_curr_disaggregation_service.compute(tx_curr_patients, end_period)\n",
    "\n",
    "tx_new_patients = tx_new_service.compute(tx_curr_patients, start_period, end_period)\n",
    "tx_new_patients_disaggregation = tx_new_disaggretation_service.compute(tx_new_patients, end_period)\n",
    "\n",
    "tx_ml_patients = tx_ml_service.compute(enrollments, start_period, end_period, ComputeTxMlService.QUARTERLY_DAYS_EXPECTED)\n",
    "tx_ml_patients_disaggregation = tx_ml_disaggregation_service.compute(tx_ml_patients, end_period)\n",
    "\n",
    "tx_pvls_denominator_patients = tx_pvls_denominator_service.compute(tx_curr_patients, end_period)\n",
    "tx_pvls_denominator_patients_disaggregation = tx_pvls_denominator_disaggregation_service.compute(tx_pvls_denominator_patients, end_period)\n",
    "\n",
    "tx_pvls_numerator_patients = tx_pvls_numerator_service.compute(tx_pvls_denominator_patients)\n",
    "tx_pvls_numerator_patients_disaggregation = tx_pvls_numerator_disaggregation_service.compute(tx_pvls_numerator_patients, end_period)\n",
    "\n",
    "tx_rtt_patients = tx_rtt_service.compute(enrollments, start_period, end_period)\n",
    "tx_rtt_patients_disaggregation = tx_rtt_disaggregation_service.compute(tx_rtt_patients, end_period)\n",
    "\n",
    "combination = tx_curr_patients_disaggregation + tx_new_patients_disaggregation + tx_ml_patients_disaggregation + tx_pvls_denominator_patients_disaggregation + tx_pvls_numerator_patients_disaggregation + tx_rtt_patients_disaggregation\n",
    "\n",
    "if combination:\n",
    "    # extract data\n",
    "    indicators = pd.json_normalize(combination)\n",
    "    indicators['period'] = period\n",
    "    indicators = indicators[['dataElement','period','orgUnit', 'categoryOptionCombo','attributeOptionCombo', 'value']]\n",
    "    indicators = indicators.sort_values(['orgUnit', 'dataElement', 'period'])\n",
    "    indicators.to_csv('TX_DATA.csv', index=False)\n"
   ]
  }
 ],
 "metadata": {
  "kernelspec": {
   "display_name": "Python 3",
   "language": "python",
   "name": "python3"
  },
  "language_info": {
   "codemirror_mode": {
    "name": "ipython",
    "version": 3
   },
   "file_extension": ".py",
   "mimetype": "text/x-python",
   "name": "python",
   "nbconvert_exporter": "python",
   "pygments_lexer": "ipython3",
   "version": "3.8.2"
  }
 },
 "nbformat": 4,
 "nbformat_minor": 2
}
