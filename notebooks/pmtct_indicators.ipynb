{
 "cells": [
  {
   "cell_type": "code",
   "execution_count": 1,
   "metadata": {},
   "outputs": [],
   "source": [
    "import pandas as pd\n",
    "from dhis2 import Api\n",
    "\n",
    "from src.main.common import FileUtil\n",
    "from src.main.common import LoggingConfig\n",
    "from src.main.application.income import *\n",
    "from src.main.application.service import *\n",
    "from src.infrastructure.forms import *\n",
    "from src.infrastructure.adapters import *\n",
    "from src.main.application.out import *"
   ]
  },
  {
   "cell_type": "code",
   "execution_count": 2,
   "metadata": {},
   "outputs": [],
   "source": [
    "credentials = FileUtil.load_credentias()\n",
    "username = credentials['username']\n",
    "password = credentials['password']\n",
    "\n",
    "url = 'https://dhis-ao.icap.columbia.edu'\n",
    "api = Api(url, username, password)"
   ]
  },
  {
   "cell_type": "code",
   "execution_count": 3,
   "metadata": {},
   "outputs": [],
   "source": [
    "# Get the list of supported facilities\n",
    "org_units = api.get('organisationUnitGroups/gH2DlwAo1ja', params={'fields':'organisationUnits'}).json()['organisationUnits']"
   ]
  },
  {
   "cell_type": "code",
   "execution_count": 4,
   "metadata": {},
   "outputs": [],
   "source": [
    "# period of analysis\n",
    "start_period = '2024-04-01'\n",
    "end_period = '2024-06-30'\n",
    "period = '2024Q2'"
   ]
  },
  {
   "cell_type": "code",
   "execution_count": 5,
   "metadata": {},
   "outputs": [],
   "source": [
    "# Logger\n",
    "config = FileUtil.load_logging_config()\n",
    "logging_config = LoggingConfig(config)\n",
    "logger = logging_config.logging_setup()"
   ]
  },
  {
   "cell_type": "code",
   "execution_count": 6,
   "metadata": {},
   "outputs": [],
   "source": [
    "enrollments = pd.DataFrame(columns=['enrollment', 'trackedEntity', 'program', 'status', 'orgUnit', 'enrolledAt', 'patientIdentifier', 'patientAge', 'patientSex','patientName', 'ancType', 'testResult', 'artStartDate', 'artStatus', 'onArt'])\n",
    "enrollments.to_csv('PMTCT_ENROLLMENTS.csv', index=False)"
   ]
  },
  {
   "cell_type": "code",
   "execution_count": 7,
   "metadata": {},
   "outputs": [],
   "source": [
    "# Load patients enrolled\n",
    "patient_demographics = PatientDemographicForm(api)\n",
    "patient_events = PatientEventForm(api)\n",
    "\n",
    "for org_unit in org_units:\n",
    "\n",
    "    org_unit = org_unit['id']\n",
    "\n",
    "    #get all patient enrollments\n",
    "    patients_enrolled = api.get('tracker/enrollments', params={'orgUnit':org_unit, 'skipPaging':'true', 'program': PTV, 'fields':'{,enrollment, enrolledAt, orgUnit, trackedEntity, program, status,}', 'enrolledAfter':f'{start_period}', 'enrolledBefore':f'{end_period}', 'order':'enrolledAt:desc'})\n",
    "    patients_enrolled = patients_enrolled.json()['instances']\n",
    "\n",
    "    logger.info(f\"Processing the facility: {org_unit}, a total of {len(patients_enrolled)} enrolled patient(s)\")\n",
    "    \n",
    "    counter = 1\n",
    "\n",
    "    for patient_enrolled in patients_enrolled:\n",
    "        patient_id = patient_enrolled['trackedEntity']\n",
    "\n",
    "        patient_demographics.add_demographics(patient_enrolled)\n",
    "        patient_events.add_patient_first_anc_event(patient_enrolled)\n",
    "\n",
    "        logger.info(f\"From {len (patients_enrolled)} patietnts enrolled, {counter} (is) are ready to be processed.\")\n",
    "        counter = counter + 1 \n",
    "\n",
    "    if patients_enrolled:\n",
    "        patients_enrolled = pd.json_normalize(patients_enrolled)\n",
    "        \n",
    "        enrollments = pd.read_csv('PMTCT_ENROLLMENTS.csv')\n",
    "        enrollments = pd.concat([enrollments, patients_enrolled])\n",
    "        enrollments.to_csv('PMTCT_ENROLLMENTS.csv', index=False, encoding='utf-8')"
   ]
  },
  {
   "cell_type": "code",
   "execution_count": 8,
   "metadata": {},
   "outputs": [],
   "source": [
    "dpi_enrollments = pd.DataFrame(columns=['enrollment', 'trackedEntity', 'program', 'status', 'orgUnit', 'enrolledAt', 'patientIdentifier', 'patientAge', 'patientSex','patientName', 'exposed', 'pcrNumber', 'testResult', 'artStartDate'])\n",
    "dpi_enrollments.to_csv('DPI_ENROLLMENTS.csv', index=False)\n",
    "\n",
    "# Load patients enrolled\n",
    "patient_demographics = PatientDemographicForm(api)\n",
    "patient_events = PatientEventForm(api)\n",
    "\n",
    "for org_unit in org_units:\n",
    "\n",
    "    org_unit = org_unit['id']\n",
    "\n",
    "    #get all patient enrollments\n",
    "    patients_enrolled = api.get('tracker/enrollments', params={'orgUnit':org_unit, 'skipPaging':'true', 'program': DPI, 'fields':'{,enrollment, enrolledAt, orgUnit, trackedEntity, program, status,}', 'enrolledAfter':f'{start_period}', 'enrolledBefore':f'{end_period}', 'order':'enrolledAt:asc'})\n",
    "    patients_enrolled = patients_enrolled.json()['instances']\n",
    "\n",
    "    logger.info(f\"Processing the facility: {org_unit}, a total of {len(patients_enrolled)} enrolled patient(s)\")\n",
    "    \n",
    "    counter = 1\n",
    "\n",
    "    for patient_enrolled in patients_enrolled:\n",
    "        patient_id = patient_enrolled['trackedEntity']\n",
    "\n",
    "        patient_demographics.add_demographics(patient_enrolled)\n",
    "        patient_events.add_patient_last_dpi_event(patient_enrolled)\n",
    "\n",
    "        logger.info(f\"From {len (patients_enrolled)} patietnts enrolled, {counter} (is) are ready to be processed.\")\n",
    "        counter = counter + 1 \n",
    "\n",
    "    if patients_enrolled:\n",
    "        patients_enrolled = pd.json_normalize(patients_enrolled)\n",
    "        \n",
    "        enrollments = pd.read_csv('DPI_ENROLLMENTS.csv')\n",
    "        enrollments = pd.concat([enrollments, patients_enrolled])\n",
    "        enrollments.to_csv('DPI_ENROLLMENTS.csv', index=False, encoding='utf-8')"
   ]
  },
  {
   "cell_type": "code",
   "execution_count": 6,
   "metadata": {},
   "outputs": [
    {
     "ename": "OutOfBoundsDatetime",
     "evalue": "Out of bounds nanosecond timestamp: 0105-09-27, at position 0",
     "output_type": "error",
     "traceback": [
      "\u001b[0;31m---------------------------------------------------------------------------\u001b[0m",
      "\u001b[0;31mOverflowError\u001b[0m                             Traceback (most recent call last)",
      "File \u001b[0;32mconversion.pyx:326\u001b[0m, in \u001b[0;36mpandas._libs.tslibs.conversion._TSObject.ensure_reso\u001b[0;34m()\u001b[0m\n",
      "File \u001b[0;32mnp_datetime.pyx:683\u001b[0m, in \u001b[0;36mpandas._libs.tslibs.np_datetime.convert_reso\u001b[0;34m()\u001b[0m\n",
      "\u001b[0;31mOverflowError\u001b[0m: result would overflow",
      "\nThe above exception was the direct cause of the following exception:\n",
      "\u001b[0;31mOutOfBoundsDatetime\u001b[0m                       Traceback (most recent call last)",
      "Cell \u001b[0;32mIn[6], line 14\u001b[0m\n\u001b[1;32m     12\u001b[0m pmtct_stat_denominator_indicator_metadata_port \u001b[38;5;241m=\u001b[39m PmtctStatDenominatorIndicatorMetadataAdapter(api)\n\u001b[1;32m     13\u001b[0m pmtct_stat_denominator_disaggregation_service \u001b[38;5;241m=\u001b[39m ComputePmtctStatDenominatorDisaggregationService(logger, pmtct_stat_denominator_indicator_metadata_port)\n\u001b[0;32m---> 14\u001b[0m pmtct_stat_denominator_patients_disaggregation \u001b[38;5;241m=\u001b[39m \u001b[43mpmtct_stat_denominator_disaggregation_service\u001b[49m\u001b[38;5;241;43m.\u001b[39;49m\u001b[43mcompute\u001b[49m\u001b[43m(\u001b[49m\u001b[43mpmtct_stat_denominator_patients\u001b[49m\u001b[43m,\u001b[49m\u001b[43m \u001b[49m\u001b[43mend_period\u001b[49m\u001b[43m)\u001b[49m\n\u001b[1;32m     16\u001b[0m \u001b[38;5;66;03m# pmtct_stat_numerator_service = ComputePmtctStatNumeratorService()\u001b[39;00m\n\u001b[1;32m     17\u001b[0m \u001b[38;5;66;03m# pmtct_stat_numerator_patients = pmtct_stat_numerator_service.compute(enrollments)\u001b[39;00m\n\u001b[1;32m     18\u001b[0m \u001b[38;5;66;03m# pmtct_stat_numerator_indicator_metadata_port = PmtctStatNumeratorIndicatorMetadataAdapter(api)\u001b[39;00m\n\u001b[0;32m   (...)\u001b[0m\n\u001b[1;32m     38\u001b[0m \n\u001b[1;32m     39\u001b[0m \u001b[38;5;66;03m# combination = pmtct_art_numerator_patients_disaggregation + pmtct_stat_denominator_patients_disaggregation + pmtct_stat_numerator_patients_disaggregation + pmtct_eid_patients_disaggregation + pmtct_hei_patients_disaggregation\u001b[39;00m\n\u001b[1;32m     40\u001b[0m combination \u001b[38;5;241m=\u001b[39m pmtct_stat_denominator_patients_disaggregation\n",
      "File \u001b[0;32m~/workspace/epts-reports-ao/src/main/application/service/compute_pmtct_stat_denominator_disaggregation_service.py:28\u001b[0m, in \u001b[0;36mComputePmtctStatDenominatorDisaggregationService.compute\u001b[0;34m(self, pmtct_stat_patients, end_period)\u001b[0m\n\u001b[1;32m     24\u001b[0m     \u001b[38;5;28;01mcontinue\u001b[39;00m\n\u001b[1;32m     26\u001b[0m \u001b[38;5;28;01mfor\u001b[39;00m age_band \u001b[38;5;129;01min\u001b[39;00m \u001b[38;5;28mself\u001b[39m\u001b[38;5;241m.\u001b[39mpmtct_stat_denominator_indicator_metadata_port\u001b[38;5;241m.\u001b[39mage_bands():\n\u001b[0;32m---> 28\u001b[0m     \u001b[38;5;28;01mif\u001b[39;00m \u001b[38;5;129;01mnot\u001b[39;00m \u001b[38;5;28;43mself\u001b[39;49m\u001b[38;5;241;43m.\u001b[39;49m\u001b[43mmatch_age_band\u001b[49m\u001b[43m(\u001b[49m\u001b[43mpatient\u001b[49m\u001b[43m,\u001b[49m\u001b[43m \u001b[49m\u001b[43mage_band\u001b[49m\u001b[43m,\u001b[49m\u001b[43m \u001b[49m\u001b[43mend_period\u001b[49m\u001b[43m)\u001b[49m:\n\u001b[1;32m     29\u001b[0m         \u001b[38;5;28;01mcontinue\u001b[39;00m\n\u001b[1;32m     31\u001b[0m     indicator_key \u001b[38;5;241m=\u001b[39m age_band \u001b[38;5;241m+\u001b[39m\u001b[38;5;124m'\u001b[39m\u001b[38;5;124m_\u001b[39m\u001b[38;5;124m'\u001b[39m\u001b[38;5;241m+\u001b[39mgender[\u001b[38;5;241m0\u001b[39m]\n",
      "File \u001b[0;32m~/workspace/epts-reports-ao/src/main/application/service/compute_pmtct_stat_denominator_disaggregation_service.py:64\u001b[0m, in \u001b[0;36mComputePmtctStatDenominatorDisaggregationService.match_age_band\u001b[0;34m(self, patient, age_band, end_period)\u001b[0m\n\u001b[1;32m     61\u001b[0m \u001b[38;5;28;01mdef\u001b[39;00m \u001b[38;5;21mmatch_age_band\u001b[39m(\u001b[38;5;28mself\u001b[39m, patient, age_band, end_period):\n\u001b[1;32m     62\u001b[0m     end_period \u001b[38;5;241m=\u001b[39m pd\u001b[38;5;241m.\u001b[39mto_datetime(end_period)\n\u001b[0;32m---> 64\u001b[0m     date_of_birth \u001b[38;5;241m=\u001b[39m \u001b[43mpd\u001b[49m\u001b[38;5;241;43m.\u001b[39;49m\u001b[43mto_datetime\u001b[49m\u001b[43m(\u001b[49m\u001b[43mpatient\u001b[49m\u001b[43m[\u001b[49m\u001b[38;5;124;43m'\u001b[39;49m\u001b[38;5;124;43mpatientAge\u001b[39;49m\u001b[38;5;124;43m'\u001b[39;49m\u001b[43m]\u001b[49m\u001b[43m)\u001b[49m\n\u001b[1;32m     66\u001b[0m     years_between \u001b[38;5;241m=\u001b[39m end_period\u001b[38;5;241m.\u001b[39myear \u001b[38;5;241m-\u001b[39m date_of_birth\u001b[38;5;241m.\u001b[39myear\n\u001b[1;32m     68\u001b[0m     \u001b[38;5;28;01mif\u001b[39;00m age_band \u001b[38;5;241m==\u001b[39m \u001b[38;5;28mself\u001b[39m\u001b[38;5;241m.\u001b[39mLESS_THAN_TEN_YEARS \u001b[38;5;129;01mand\u001b[39;00m years_between \u001b[38;5;241m<\u001b[39m \u001b[38;5;241m10\u001b[39m:\n",
      "File \u001b[0;32m/Library/Frameworks/Python.framework/Versions/3.13/lib/python3.13/site-packages/pandas/core/tools/datetimes.py:1101\u001b[0m, in \u001b[0;36mto_datetime\u001b[0;34m(arg, errors, dayfirst, yearfirst, utc, format, exact, unit, infer_datetime_format, origin, cache)\u001b[0m\n\u001b[1;32m   1099\u001b[0m         result \u001b[38;5;241m=\u001b[39m convert_listlike(argc, \u001b[38;5;28mformat\u001b[39m)\n\u001b[1;32m   1100\u001b[0m \u001b[38;5;28;01melse\u001b[39;00m:\n\u001b[0;32m-> 1101\u001b[0m     result \u001b[38;5;241m=\u001b[39m \u001b[43mconvert_listlike\u001b[49m\u001b[43m(\u001b[49m\u001b[43mnp\u001b[49m\u001b[38;5;241;43m.\u001b[39;49m\u001b[43marray\u001b[49m\u001b[43m(\u001b[49m\u001b[43m[\u001b[49m\u001b[43marg\u001b[49m\u001b[43m]\u001b[49m\u001b[43m)\u001b[49m\u001b[43m,\u001b[49m\u001b[43m \u001b[49m\u001b[38;5;28;43mformat\u001b[39;49m\u001b[43m)\u001b[49m[\u001b[38;5;241m0\u001b[39m]\n\u001b[1;32m   1102\u001b[0m     \u001b[38;5;28;01mif\u001b[39;00m \u001b[38;5;28misinstance\u001b[39m(arg, \u001b[38;5;28mbool\u001b[39m) \u001b[38;5;129;01mand\u001b[39;00m \u001b[38;5;28misinstance\u001b[39m(result, np\u001b[38;5;241m.\u001b[39mbool_):\n\u001b[1;32m   1103\u001b[0m         result \u001b[38;5;241m=\u001b[39m \u001b[38;5;28mbool\u001b[39m(result)  \u001b[38;5;66;03m# TODO: avoid this kludge.\u001b[39;00m\n",
      "File \u001b[0;32m/Library/Frameworks/Python.framework/Versions/3.13/lib/python3.13/site-packages/pandas/core/tools/datetimes.py:435\u001b[0m, in \u001b[0;36m_convert_listlike_datetimes\u001b[0;34m(arg, format, name, utc, unit, errors, dayfirst, yearfirst, exact)\u001b[0m\n\u001b[1;32m    432\u001b[0m \u001b[38;5;28;01mif\u001b[39;00m \u001b[38;5;28mformat\u001b[39m \u001b[38;5;129;01mis\u001b[39;00m \u001b[38;5;129;01mnot\u001b[39;00m \u001b[38;5;28;01mNone\u001b[39;00m \u001b[38;5;129;01mand\u001b[39;00m \u001b[38;5;28mformat\u001b[39m \u001b[38;5;241m!=\u001b[39m \u001b[38;5;124m\"\u001b[39m\u001b[38;5;124mmixed\u001b[39m\u001b[38;5;124m\"\u001b[39m:\n\u001b[1;32m    433\u001b[0m     \u001b[38;5;28;01mreturn\u001b[39;00m _array_strptime_with_fallback(arg, name, utc, \u001b[38;5;28mformat\u001b[39m, exact, errors)\n\u001b[0;32m--> 435\u001b[0m result, tz_parsed \u001b[38;5;241m=\u001b[39m \u001b[43mobjects_to_datetime64\u001b[49m\u001b[43m(\u001b[49m\n\u001b[1;32m    436\u001b[0m \u001b[43m    \u001b[49m\u001b[43marg\u001b[49m\u001b[43m,\u001b[49m\n\u001b[1;32m    437\u001b[0m \u001b[43m    \u001b[49m\u001b[43mdayfirst\u001b[49m\u001b[38;5;241;43m=\u001b[39;49m\u001b[43mdayfirst\u001b[49m\u001b[43m,\u001b[49m\n\u001b[1;32m    438\u001b[0m \u001b[43m    \u001b[49m\u001b[43myearfirst\u001b[49m\u001b[38;5;241;43m=\u001b[39;49m\u001b[43myearfirst\u001b[49m\u001b[43m,\u001b[49m\n\u001b[1;32m    439\u001b[0m \u001b[43m    \u001b[49m\u001b[43mutc\u001b[49m\u001b[38;5;241;43m=\u001b[39;49m\u001b[43mutc\u001b[49m\u001b[43m,\u001b[49m\n\u001b[1;32m    440\u001b[0m \u001b[43m    \u001b[49m\u001b[43merrors\u001b[49m\u001b[38;5;241;43m=\u001b[39;49m\u001b[43merrors\u001b[49m\u001b[43m,\u001b[49m\n\u001b[1;32m    441\u001b[0m \u001b[43m    \u001b[49m\u001b[43mallow_object\u001b[49m\u001b[38;5;241;43m=\u001b[39;49m\u001b[38;5;28;43;01mTrue\u001b[39;49;00m\u001b[43m,\u001b[49m\n\u001b[1;32m    442\u001b[0m \u001b[43m\u001b[49m\u001b[43m)\u001b[49m\n\u001b[1;32m    444\u001b[0m \u001b[38;5;28;01mif\u001b[39;00m tz_parsed \u001b[38;5;129;01mis\u001b[39;00m \u001b[38;5;129;01mnot\u001b[39;00m \u001b[38;5;28;01mNone\u001b[39;00m:\n\u001b[1;32m    445\u001b[0m     \u001b[38;5;66;03m# We can take a shortcut since the datetime64 numpy array\u001b[39;00m\n\u001b[1;32m    446\u001b[0m     \u001b[38;5;66;03m# is in UTC\u001b[39;00m\n\u001b[1;32m    447\u001b[0m     out_unit \u001b[38;5;241m=\u001b[39m np\u001b[38;5;241m.\u001b[39mdatetime_data(result\u001b[38;5;241m.\u001b[39mdtype)[\u001b[38;5;241m0\u001b[39m]\n",
      "File \u001b[0;32m/Library/Frameworks/Python.framework/Versions/3.13/lib/python3.13/site-packages/pandas/core/arrays/datetimes.py:2398\u001b[0m, in \u001b[0;36mobjects_to_datetime64\u001b[0;34m(data, dayfirst, yearfirst, utc, errors, allow_object, out_unit)\u001b[0m\n\u001b[1;32m   2395\u001b[0m \u001b[38;5;66;03m# if str-dtype, convert\u001b[39;00m\n\u001b[1;32m   2396\u001b[0m data \u001b[38;5;241m=\u001b[39m np\u001b[38;5;241m.\u001b[39masarray(data, dtype\u001b[38;5;241m=\u001b[39mnp\u001b[38;5;241m.\u001b[39mobject_)\n\u001b[0;32m-> 2398\u001b[0m result, tz_parsed \u001b[38;5;241m=\u001b[39m \u001b[43mtslib\u001b[49m\u001b[38;5;241;43m.\u001b[39;49m\u001b[43marray_to_datetime\u001b[49m\u001b[43m(\u001b[49m\n\u001b[1;32m   2399\u001b[0m \u001b[43m    \u001b[49m\u001b[43mdata\u001b[49m\u001b[43m,\u001b[49m\n\u001b[1;32m   2400\u001b[0m \u001b[43m    \u001b[49m\u001b[43merrors\u001b[49m\u001b[38;5;241;43m=\u001b[39;49m\u001b[43merrors\u001b[49m\u001b[43m,\u001b[49m\n\u001b[1;32m   2401\u001b[0m \u001b[43m    \u001b[49m\u001b[43mutc\u001b[49m\u001b[38;5;241;43m=\u001b[39;49m\u001b[43mutc\u001b[49m\u001b[43m,\u001b[49m\n\u001b[1;32m   2402\u001b[0m \u001b[43m    \u001b[49m\u001b[43mdayfirst\u001b[49m\u001b[38;5;241;43m=\u001b[39;49m\u001b[43mdayfirst\u001b[49m\u001b[43m,\u001b[49m\n\u001b[1;32m   2403\u001b[0m \u001b[43m    \u001b[49m\u001b[43myearfirst\u001b[49m\u001b[38;5;241;43m=\u001b[39;49m\u001b[43myearfirst\u001b[49m\u001b[43m,\u001b[49m\n\u001b[1;32m   2404\u001b[0m \u001b[43m    \u001b[49m\u001b[43mcreso\u001b[49m\u001b[38;5;241;43m=\u001b[39;49m\u001b[43mabbrev_to_npy_unit\u001b[49m\u001b[43m(\u001b[49m\u001b[43mout_unit\u001b[49m\u001b[43m)\u001b[49m\u001b[43m,\u001b[49m\n\u001b[1;32m   2405\u001b[0m \u001b[43m\u001b[49m\u001b[43m)\u001b[49m\n\u001b[1;32m   2407\u001b[0m \u001b[38;5;28;01mif\u001b[39;00m tz_parsed \u001b[38;5;129;01mis\u001b[39;00m \u001b[38;5;129;01mnot\u001b[39;00m \u001b[38;5;28;01mNone\u001b[39;00m:\n\u001b[1;32m   2408\u001b[0m     \u001b[38;5;66;03m# We can take a shortcut since the datetime64 numpy array\u001b[39;00m\n\u001b[1;32m   2409\u001b[0m     \u001b[38;5;66;03m#  is in UTC\u001b[39;00m\n\u001b[1;32m   2410\u001b[0m     \u001b[38;5;28;01mreturn\u001b[39;00m result, tz_parsed\n",
      "File \u001b[0;32mtslib.pyx:414\u001b[0m, in \u001b[0;36mpandas._libs.tslib.array_to_datetime\u001b[0;34m()\u001b[0m\n",
      "File \u001b[0;32mtslib.pyx:596\u001b[0m, in \u001b[0;36mpandas._libs.tslib.array_to_datetime\u001b[0;34m()\u001b[0m\n",
      "File \u001b[0;32mtslib.pyx:571\u001b[0m, in \u001b[0;36mpandas._libs.tslib.array_to_datetime\u001b[0;34m()\u001b[0m\n",
      "File \u001b[0;32mconversion.pyx:332\u001b[0m, in \u001b[0;36mpandas._libs.tslibs.conversion._TSObject.ensure_reso\u001b[0;34m()\u001b[0m\n",
      "\u001b[0;31mOutOfBoundsDatetime\u001b[0m: Out of bounds nanosecond timestamp: 0105-09-27, at position 0"
     ]
    }
   ],
   "source": [
    "enrollments = pd.read_csv('PMTCT_ENROLLMENTS.csv')\n",
    "enrollments = enrollments.to_dict(orient='records')\n",
    "\n",
    "pmtct_art_numerator_service = ComputePmtctArtNumeratorService()\n",
    "pmtct_art_numerator_patients = pmtct_art_numerator_service.compute(enrollments)\n",
    "pmtct_art_numerator_indicator_metadata_port = PmtctArtNumeratorIndicatorMetadataAdapter(api)\n",
    "pmtct_art_numerator_disaggegation_service = ComputePmtctArtNumeratorDisaggregationService(logger, pmtct_art_numerator_indicator_metadata_port)\n",
    "pmtct_art_numerator_patients_disaggregation = pmtct_art_numerator_disaggegation_service.compute(pmtct_art_numerator_patients, end_period)\n",
    "\n",
    "pmtct_stat_denominator_service = ComputePmtctStatDenominatorService()\n",
    "pmtct_stat_denominator_patients = pmtct_stat_denominator_service.compute(enrollments)\n",
    "pmtct_stat_denominator_indicator_metadata_port = PmtctStatDenominatorIndicatorMetadataAdapter(api)\n",
    "pmtct_stat_denominator_disaggregation_service = ComputePmtctStatDenominatorDisaggregationService(logger, pmtct_stat_denominator_indicator_metadata_port)\n",
    "pmtct_stat_denominator_patients_disaggregation = pmtct_stat_denominator_disaggregation_service.compute(pmtct_stat_denominator_patients, end_period)\n",
    "\n",
    "pmtct_stat_numerator_service = ComputePmtctStatNumeratorService()\n",
    "pmtct_stat_numerator_patients = pmtct_stat_numerator_service.compute(enrollments)\n",
    "pmtct_stat_numerator_indicator_metadata_port = PmtctStatNumeratorIndicatorMetadataAdapter(api)\n",
    "pmtct_stat_numerator_disaggregation_service = ComputePmtctStatNumeratorDisaggregationService(logger, pmtct_stat_numerator_indicator_metadata_port)\n",
    "pmtct_stat_numerator_patients_disaggregation = pmtct_stat_numerator_disaggregation_service.compute(pmtct_stat_numerator_patients, end_period)\n",
    "\n",
    "dpi_enrollments = pd.read_csv('DPI_ENROLLMENTS.csv')\n",
    "dpi_enrollments = dpi_enrollments.to_dict(orient='records')\n",
    "\n",
    "pmtct_eid_use_case: ComputePmtctEidUseCase = ComputePmtctEidService()\n",
    "pmtct_eid_patients = pmtct_eid_use_case.compute(dpi_enrollments)\n",
    "pmtct_eid_indicators_metadata_port: IndicatorMetadataPort = PmtctEidIndicatorMedatadaAdapter(api)\n",
    "pmtct_eid_use_case: ComputePmtctEidDisaggregationUseCase = ComputePmtctEidDisaggregationService(logger, pmtct_eid_indicators_metadata_port)\n",
    "pmtct_eid_patients_disaggregation = pmtct_eid_use_case.compute(pmtct_eid_patients, end_period)\n",
    "\n",
    "pmtct_hei_use_case: ComputePmtctHeiUseCase = ComputePmtctHeiService()\n",
    "pmtct_hei_patients = pmtct_hei_use_case.compute(dpi_enrollments)\n",
    "pmtct_hei_indicators_metadata_port: IndicatorMetadataPort = PmtctHeiIndicatorsMetadataAdapter(api)\n",
    "pmtct_hei_pos_indicators_metadata_port: IndicatorMetadataPort = PmtctHeiPosIndicatorsMetadataAdapter(api)\n",
    "\n",
    "pmtct_hei_disaggregation_use_case: ComputePmtctHeiDisaggregationUseCase = ComputePmtctHeiDisaggregationService(logger, pmtct_hei_indicators_metadata_port, pmtct_hei_pos_indicators_metadata_port)\n",
    "pmtct_hei_patients_disaggregation = pmtct_hei_disaggregation_use_case.compute(pmtct_hei_patients, end_period)\n",
    "\n",
    "combination = pmtct_art_numerator_patients_disaggregation + pmtct_stat_denominator_patients_disaggregation + pmtct_stat_numerator_patients_disaggregation + pmtct_eid_patients_disaggregation + pmtct_hei_patients_disaggregation\n",
    "\n",
    "if combination:\n",
    "    # extract data\n",
    "    indicators = pd.json_normalize(combination)\n",
    "    indicators['period'] = period\n",
    "    indicators = indicators[['dataElement','period','orgUnit', 'categoryOptionCombo','attributeOptionCombo', 'value']]\n",
    "    indicators = indicators.sort_values(['orgUnit', 'dataElement', 'period'])\n",
    "    indicators.to_csv('PMTCT_DATA.csv', index=False)"
   ]
  }
 ],
 "metadata": {
  "kernelspec": {
   "display_name": "Python 3",
   "language": "python",
   "name": "python3"
  },
  "language_info": {
   "codemirror_mode": {
    "name": "ipython",
    "version": 3
   },
   "file_extension": ".py",
   "mimetype": "text/x-python",
   "name": "python",
   "nbconvert_exporter": "python",
   "pygments_lexer": "ipython3",
   "version": "3.13.0"
  }
 },
 "nbformat": 4,
 "nbformat_minor": 2
}
