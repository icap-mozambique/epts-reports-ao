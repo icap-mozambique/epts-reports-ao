{
 "cells": [
  {
   "cell_type": "code",
   "execution_count": 1,
   "metadata": {},
   "outputs": [],
   "source": [
    "import pandas as pd\n",
    "from dhis2 import Api\n",
    "\n",
    "from src.main.common import FileUtil\n",
    "from src.main.common import LoggingConfig\n",
    "from src.main.application.income import *\n",
    "from src.main.application.service import *\n",
    "from src.infrastructure.forms import *\n",
    "from src.infrastructure.adapters import *\n",
    "from src.main.application.out import *"
   ]
  },
  {
   "cell_type": "code",
   "execution_count": 2,
   "metadata": {},
   "outputs": [],
   "source": [
    "credentials = FileUtil.load_credentias()\n",
    "username = credentials['username']\n",
    "password = credentials['password']\n",
    "\n",
    "url = 'https://dhis-ao.icap.columbia.edu'\n",
    "api = Api(url, username, password)"
   ]
  },
  {
   "cell_type": "code",
   "execution_count": 3,
   "metadata": {},
   "outputs": [],
   "source": [
    "# Get the list of supported facilities\n",
    "org_units = api.get('organisationUnitGroups/gH2DlwAo1ja', params={'fields':'organisationUnits'}).json()['organisationUnits']"
   ]
  },
  {
   "cell_type": "code",
   "execution_count": 4,
   "metadata": {},
   "outputs": [],
   "source": [
    "# period of analysis\n",
    "start_period = '2024-04-01'\n",
    "end_period = '2024-06-30'\n",
    "period = '2024Q2'"
   ]
  },
  {
   "cell_type": "code",
   "execution_count": 5,
   "metadata": {},
   "outputs": [],
   "source": [
    "# Logger\n",
    "config = FileUtil.load_logging_config()\n",
    "logging_config = LoggingConfig(config)\n",
    "logger = logging_config.logging_setup()"
   ]
  },
  {
   "cell_type": "code",
   "execution_count": 6,
   "metadata": {},
   "outputs": [],
   "source": [
    "# # index case\n",
    "# index_enrollments = pd.DataFrame(columns=['trackedEntity', 'program', 'status', 'orgUnit', 'patientIdentifier', 'patientAge', 'patientSex','patientName', 'childrenLessThan15Years', 'testPartner', 'numberOfContacts'])\n",
    "# index_enrollments.to_csv('INDEX_ENROLLMENTS.csv', index=False)\n",
    "\n",
    "# # Load patients envents\n",
    "# patient_demographics = PatientDemographicForm(api)\n",
    "# patient_events_port = PatientEventForm(api)\n",
    "\n",
    "# for org_unit in org_units:\n",
    "\n",
    "#     org_unit = org_unit['id']\n",
    "\n",
    "#     #get all patient events\n",
    "#     patients_events = patient_events_port.find_patient_events_by_program_program_stage_unit_and_period(INDEX, INDEX_DETAILS_STAGE, org_unit, start_period, end_period)\n",
    "\n",
    "#     logger.info(f\"Processing the facility: {org_unit}, a total of {len(patients_events)} enrolled patient(s)\")\n",
    "    \n",
    "#     counter = 1\n",
    "\n",
    "#     for patient_enrolled in patients_events:\n",
    "#         patient_id = patient_enrolled['trackedEntity']\n",
    "\n",
    "#         patient_demographics.add_demographics(patient_enrolled)\n",
    "\n",
    "#         logger.info(f\"From {len (patients_events)} patietnts enrolled, {counter} (is) are ready to be processed.\")\n",
    "#         counter = counter + 1 \n",
    "\n",
    "#     if patients_events:\n",
    "#         patients_events = pd.json_normalize(patients_events)\n",
    "        \n",
    "#         enrollments = pd.read_csv('INDEX_ENROLLMENTS.csv')\n",
    "#         enrollments = pd.concat([enrollments, patients_events])\n",
    "#         enrollments.to_csv('INDEX_ENROLLMENTS.csv', index=False, encoding='utf-8')"
   ]
  },
  {
   "cell_type": "code",
   "execution_count": 7,
   "metadata": {},
   "outputs": [],
   "source": [
    "# # index case contacts\n",
    "# index_enrollments = pd.DataFrame(columns=['trackedEntity', 'program', 'status', 'orgUnit', 'patientAge', 'patientSex', 'ic_new_case', 'result', 'ic_date'])\n",
    "# index_enrollments.to_csv('CONTACTS_INDEX_ENROLLMENTS.csv', index=False)\n",
    "\n",
    "# # Load patients envents\n",
    "# patient_demographics = PatientDemographicForm(api)\n",
    "# patient_events_port = PatientEventForm(api)\n",
    "\n",
    "# for org_unit in org_units:\n",
    "\n",
    "#     org_unit = org_unit['id']\n",
    "\n",
    "#     #get all patient events\n",
    "#     patients_events = patient_events_port.find_patient_events_by_program_program_stage_unit_and_period(INDEX, INDEX_CONTACTS_STAGE, org_unit, start_period, end_period)\n",
    "\n",
    "#     logger.info(f\"Processing the facility: {org_unit}, a total of {len(patients_events)} enrolled patient(s)\")\n",
    "    \n",
    "#     counter = 1\n",
    "\n",
    "#     for patient_enrolled in patients_events:\n",
    "#         patient_id = patient_enrolled['trackedEntity']\n",
    "\n",
    "#         patient_demographics.add_demographics(patient_enrolled)\n",
    "\n",
    "#         logger.info(f\"From {len (patients_events)} patietnts enrolled, {counter} (is) are ready to be processed.\")\n",
    "#         counter = counter + 1 \n",
    "\n",
    "#     if patients_events:\n",
    "#         patients_events = pd.json_normalize(patients_events)\n",
    "        \n",
    "#         enrollments = pd.read_csv('CONTACTS_INDEX_ENROLLMENTS.csv')\n",
    "#         enrollments = pd.concat([enrollments, patients_events])\n",
    "#         enrollments.to_csv('CONTACTS_INDEX_ENROLLMENTS.csv', index=False, encoding='utf-8')"
   ]
  },
  {
   "cell_type": "code",
   "execution_count": 9,
   "metadata": {},
   "outputs": [
    {
     "ename": "IndexError",
     "evalue": "list index out of range",
     "output_type": "error",
     "traceback": [
      "\u001b[0;31m---------------------------------------------------------------------------\u001b[0m",
      "\u001b[0;31mIndexError\u001b[0m                                Traceback (most recent call last)",
      "Input \u001b[0;32mIn [9]\u001b[0m, in \u001b[0;36m<cell line: 29>\u001b[0;34m()\u001b[0m\n\u001b[1;32m     27\u001b[0m index_case_indicators_metadata_port :IndicatorMetadataPort \u001b[38;5;241m=\u001b[39m IndexCaseIndicatorMetadataAdapter(api)\n\u001b[1;32m     28\u001b[0m index_case_disaggregation_use_case: ComputeHtsIndexCaseDisaggregationUseCase \u001b[38;5;241m=\u001b[39m ComputeHtsIndexCaseOfferedDisaggregationService(logger,index_case_indicators_metadata_port)\n\u001b[0;32m---> 29\u001b[0m index_case_patients_disaggregations \u001b[38;5;241m=\u001b[39m \u001b[43mindex_case_disaggregation_use_case\u001b[49m\u001b[38;5;241;43m.\u001b[39;49m\u001b[43mcompute\u001b[49m\u001b[43m(\u001b[49m\u001b[43mindex_case_patients\u001b[49m\u001b[43m,\u001b[49m\u001b[43m \u001b[49m\u001b[43mend_period\u001b[49m\u001b[43m)\u001b[49m\n\u001b[1;32m     31\u001b[0m combination \u001b[38;5;241m=\u001b[39m index_case_offered_patients_disaggregations \u001b[38;5;241m+\u001b[39m index_case_accepted_patients_disaggregation \u001b[38;5;241m+\u001b[39m index_case_contacts_number_patients_disaggregation \u001b[38;5;241m+\u001b[39m index_case_patients_disaggregations\n\u001b[1;32m     33\u001b[0m \u001b[38;5;28;01mif\u001b[39;00m combination:\n\u001b[1;32m     34\u001b[0m     \u001b[38;5;66;03m# extract data\u001b[39;00m\n",
      "File \u001b[0;32m~/workspace/epts-reports-ao/src/main/application/service/compute_hts_index_case_offered_disaggregation_service.py:29\u001b[0m, in \u001b[0;36mComputeHtsIndexCaseOfferedDisaggregationService.compute\u001b[0;34m(self, offered_patients, end_period)\u001b[0m\n\u001b[1;32m     26\u001b[0m     \u001b[38;5;28;01mcontinue\u001b[39;00m\n\u001b[1;32m     28\u001b[0m indicator_key \u001b[38;5;241m=\u001b[39m  age_band \u001b[38;5;241m+\u001b[39m\u001b[38;5;124m'\u001b[39m\u001b[38;5;124m_\u001b[39m\u001b[38;5;124m'\u001b[39m\u001b[38;5;241m+\u001b[39m gender[\u001b[38;5;241m0\u001b[39m]\n\u001b[0;32m---> 29\u001b[0m metadata \u001b[38;5;241m=\u001b[39m \u001b[43m[\u001b[49m\u001b[43mmetadata\u001b[49m\u001b[43m \u001b[49m\u001b[38;5;28;43;01mfor\u001b[39;49;00m\u001b[43m \u001b[49m\u001b[43mmetadata\u001b[49m\u001b[43m \u001b[49m\u001b[38;5;129;43;01min\u001b[39;49;00m\u001b[43m \u001b[49m\u001b[43mindicators_metadata\u001b[49m\u001b[43m \u001b[49m\u001b[38;5;28;43;01mif\u001b[39;49;00m\u001b[43m \u001b[49m\u001b[43mindicator_key\u001b[49m\u001b[43m \u001b[49m\u001b[38;5;241;43m==\u001b[39;49m\u001b[43m \u001b[49m\u001b[43mmetadata\u001b[49m\u001b[43m[\u001b[49m\u001b[38;5;124;43m'\u001b[39;49m\u001b[38;5;124;43mindicator_key\u001b[39;49m\u001b[38;5;124;43m'\u001b[39;49m\u001b[43m]\u001b[49m\u001b[43m]\u001b[49m\u001b[43m[\u001b[49m\u001b[38;5;241;43m0\u001b[39;49m\u001b[43m]\u001b[49m\n\u001b[1;32m     31\u001b[0m indicator_key \u001b[38;5;241m=\u001b[39m indicator_key \u001b[38;5;241m+\u001b[39m \u001b[38;5;124m'\u001b[39m\u001b[38;5;124m_\u001b[39m\u001b[38;5;124m'\u001b[39m \u001b[38;5;241m+\u001b[39m patient[\u001b[38;5;124m'\u001b[39m\u001b[38;5;124morgUnit\u001b[39m\u001b[38;5;124m'\u001b[39m]\n\u001b[1;32m     33\u001b[0m \u001b[38;5;28;01mif\u001b[39;00m indicator_key \u001b[38;5;129;01mnot\u001b[39;00m \u001b[38;5;129;01min\u001b[39;00m indicators:\n",
      "\u001b[0;31mIndexError\u001b[0m: list index out of range"
     ]
    }
   ],
   "source": [
    "index_enrollments = pd.read_csv('INDEX_ENROLLMENTS.csv')\n",
    "index_enrollments = index_enrollments.to_dict(orient='records')\n",
    "\n",
    "# index\n",
    "index_case_offered_indicators_metadata_port = IndexCaseOfferedIndicatorMetadataAdapter(api)\n",
    "index_case_offered_use_case: ComputeHtsIndexCaseOfferedDisaggregationUseCase = ComputeHtsIndexCaseOfferedDisaggregationService(logger, index_case_offered_indicators_metadata_port)\n",
    "index_case_offered_patients_disaggregations =  index_case_offered_use_case.compute(index_enrollments, end_period)\n",
    "\n",
    "index_case_accepted_use_case = ComputeHtsIndexCaseAcceptedService()\n",
    "index_case_accepted_patients = index_case_accepted_use_case.compute(index_enrollments)\n",
    "\n",
    "index_case_accepted_indicators_metadata_port : IndicatorMetadataPort = IndexCaseAcceptedIndicatorMetadataAdapter(api)\n",
    "index_case_accepted_disaggregation_use_case: ComputeHtsIndexCaseAcceptedDisaggregationUseCase = ComputeHtsIndexCaseAcceptedDisaggregationService(logger, index_case_accepted_indicators_metadata_port)\n",
    "index_case_accepted_patients_disaggregation = index_case_accepted_disaggregation_use_case.compute(index_case_accepted_patients, end_period)\n",
    "\n",
    "# contacts\n",
    "index_contacts_enrollments = pd.read_csv('CONTACTS_INDEX_ENROLLMENTS.csv')\n",
    "index_contacts_enrollments = index_contacts_enrollments.to_dict(orient='records')\n",
    "\n",
    "index_case_contacts_number_indicators_metadata_port: IndicatorMetadataPort = IndexCaseContactsNumberIndicatorMetadataAdapter(api)\n",
    "index_case_contacts_number_disaggregation_use_case: ComputeHtsIndexCaseContactsNumberDisaggregationUseCase = ComputeHtsIndexCaseContactsNumberDisaggregationService(logger, index_case_contacts_number_indicators_metadata_port)\n",
    "index_case_contacts_number_patients_disaggregation = index_case_contacts_number_disaggregation_use_case.compute(index_contacts_enrollments, end_period)\n",
    "\n",
    "index_case_use_case: ComputeHtsIndexCaseUseCase = ComputeHtsIndexCaseService()\n",
    "index_case_patients = index_case_use_case.compute(index_contacts_enrollments)\n",
    "\n",
    "index_case_indicators_metadata_port :IndicatorMetadataPort = IndexCaseIndicatorMetadataAdapter(api)\n",
    "index_case_disaggregation_use_case: ComputeHtsIndexCaseDisaggregationUseCase = ComputeHtsIndexCaseDisaggregationService(logger,index_case_indicators_metadata_port)\n",
    "index_case_patients_disaggregations = index_case_disaggregation_use_case.compute(index_case_patients, end_period)\n",
    "\n",
    "combination = index_case_offered_patients_disaggregations + index_case_accepted_patients_disaggregation + index_case_contacts_number_patients_disaggregation + index_case_patients_disaggregations\n",
    "\n",
    "if combination:\n",
    "    # extract data\n",
    "    indicators = pd.json_normalize(combination)\n",
    "    indicators['period'] = period\n",
    "    indicators = indicators[['dataElement','period','orgUnit', 'categoryOptionCombo','attributeOptionCombo', 'value']]\n",
    "    indicators = indicators.sort_values(['orgUnit', 'dataElement', 'period'])\n",
    "    indicators.to_csv('INDEX_DATA.csv', index=False)"
   ]
  }
 ],
 "metadata": {
  "kernelspec": {
   "display_name": "Python 3",
   "language": "python",
   "name": "python3"
  },
  "language_info": {
   "codemirror_mode": {
    "name": "ipython",
    "version": 3
   },
   "file_extension": ".py",
   "mimetype": "text/x-python",
   "name": "python",
   "nbconvert_exporter": "python",
   "pygments_lexer": "ipython3",
   "version": "3.8.2"
  }
 },
 "nbformat": 4,
 "nbformat_minor": 2
}
