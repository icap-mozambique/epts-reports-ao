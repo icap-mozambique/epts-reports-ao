{
 "cells": [
  {
   "cell_type": "code",
   "execution_count": null,
   "metadata": {},
   "outputs": [],
   "source": [
    "import pandas as pd\n",
    "from dhis2 import Api\n",
    "\n",
    "from src.main.common import FileUtil\n",
    "from src.main.common import LoggingConfig\n",
    "from src.main.application.income import *\n",
    "from src.main.application.service import *\n",
    "from src.infrastructure.forms import *\n",
    "from src.infrastructure.adapters import *"
   ]
  },
  {
   "cell_type": "code",
   "execution_count": null,
   "metadata": {},
   "outputs": [],
   "source": [
    "credentials = FileUtil.load_credentias()\n",
    "username = credentials['username']\n",
    "password = credentials['password']\n",
    "\n",
    "url = 'https://dhis-ao.icap.columbia.edu'\n",
    "api = Api(url, username, password)"
   ]
  },
  {
   "cell_type": "code",
   "execution_count": null,
   "metadata": {},
   "outputs": [],
   "source": [
    "# Get the list of supported facilities\n",
    "org_units = api.get('organisationUnitGroups/gH2DlwAo1ja', params={'fields':'organisationUnits'}).json()['organisationUnits']"
   ]
  },
  {
   "cell_type": "code",
   "execution_count": null,
   "metadata": {},
   "outputs": [],
   "source": [
    "# period of analysis\n",
    "start_period = '2024-04-01'\n",
    "end_period = '2024-06-30'\n",
    "period = '2024Q2'"
   ]
  },
  {
   "cell_type": "code",
   "execution_count": 15,
   "metadata": {},
   "outputs": [],
   "source": [
    "delete_data = pd.DataFrame(columns=['dataElement','period','orgUnit', 'categoryOptionCombo','attributeOptionCombo', 'value'])\n",
    "delete_data.to_csv('DELETE.csv', index=False)\n",
    "\n",
    "elements = ['VcYITWFtRPl']\n",
    "\n",
    "for org_unit in org_units:\n",
    "    \n",
    "    metadatas = []\n",
    "\n",
    "    for element in elements:\n",
    "        indicators_metadata = api.get('dataElementOperands', params={'paging':False, 'fields':'id,name', 'filter':f'dataElement.id:eq:{element}'})\n",
    "        indicators_metadata = indicators_metadata.json()['dataElementOperands']\n",
    "\n",
    "        for indicator in indicators_metadata:\n",
    "            data = {'dataElement': indicator['id'].split('.')[0], 'period': '202406', 'orgUnit':org_unit['id'], 'categoryOptionCombo':indicator['id'].split('.')[1]}\n",
    "            metadatas.append(data)\n",
    "\n",
    "    metadatas = pd.json_normalize(metadatas)\n",
    "\n",
    "    delete_data = pd.read_csv('DELETE.csv')\n",
    "    delete_data = pd.concat([delete_data, metadatas])\n",
    "    delete_data.to_csv('DELETE.csv', index=False, encoding='utf-8')"
   ]
  }
 ],
 "metadata": {
  "kernelspec": {
   "display_name": "Python 3",
   "language": "python",
   "name": "python3"
  },
  "language_info": {
   "codemirror_mode": {
    "name": "ipython",
    "version": 3
   },
   "file_extension": ".py",
   "mimetype": "text/x-python",
   "name": "python",
   "nbconvert_exporter": "python",
   "pygments_lexer": "ipython3",
   "version": "3.8.2"
  }
 },
 "nbformat": 4,
 "nbformat_minor": 2
}
