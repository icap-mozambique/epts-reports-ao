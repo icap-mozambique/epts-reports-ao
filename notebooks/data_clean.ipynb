{
 "cells": [
  {
   "cell_type": "code",
   "execution_count": 2,
   "metadata": {},
   "outputs": [],
   "source": [
    "import pandas as pd\n",
    "from dhis2 import Api\n",
    "\n",
    "from src.main.common import FileUtil\n",
    "from src.main.common import LoggingConfig\n",
    "from src.main.application.income import *\n",
    "from src.main.application.service import *\n",
    "from src.infrastructure.forms import *\n",
    "from src.infrastructure.adapters import *"
   ]
  },
  {
   "cell_type": "code",
   "execution_count": 7,
   "metadata": {},
   "outputs": [],
   "source": [
    "credentials = FileUtil.load_credentias()\n",
    "username = credentials['username']\n",
    "password = credentials['password']\n",
    "\n",
    "url = 'https://dhis-ao.icap.columbia.edu'\n",
    "api = Api(url, username, password)"
   ]
  },
  {
   "cell_type": "code",
   "execution_count": 8,
   "metadata": {},
   "outputs": [],
   "source": [
    "# Get the list of supported facilities\n",
    "org_units = api.get('organisationUnitGroups/gH2DlwAo1ja', params={'fields':'organisationUnits'}).json()['organisationUnits']"
   ]
  },
  {
   "cell_type": "code",
   "execution_count": 9,
   "metadata": {},
   "outputs": [],
   "source": [
    "# period of analysis\n",
    "start_period = '2024-04-01'\n",
    "end_period = '2024-06-30'\n",
    "period = '2024Q2'"
   ]
  },
  {
   "cell_type": "code",
   "execution_count": 10,
   "metadata": {},
   "outputs": [],
   "source": [
    "delete_data = pd.DataFrame(columns=['dataElement','period','orgUnit', 'categoryOptionCombo','attributeOptionCombo', 'value'])\n",
    "delete_data.to_csv('DELETE.csv', index=False)\n",
    "\n",
    "data_element_group = 'VPHRxGDLoLM'\n",
    "elements = api.get(f'dataElementGroups/{data_element_group}', params={'fields':'dataElements'})\n",
    "elements = elements.json()['dataElements']\n",
    "\n",
    "for org_unit in org_units:\n",
    "    \n",
    "    metadatas = []\n",
    "\n",
    "    for element in elements:\n",
    "        element_id = element['id']\n",
    "        indicators = api.get('dataElementOperands', params={'paging':False, 'fields':'id,name', 'filter':f'dataElement.id:eq:{element_id}'})\n",
    "        indicators = indicators.json()['dataElementOperands']\n",
    "\n",
    "        for indicator in indicators:\n",
    "            data = {'dataElement': indicator['id'].split('.')[0], 'period': period, 'orgUnit':org_unit['id'], 'categoryOptionCombo':indicator['id'].split('.')[1]}\n",
    "            metadatas.append(data)\n",
    "\n",
    "    metadatas = pd.json_normalize(metadatas)\n",
    "\n",
    "    delete_data = pd.read_csv('DELETE.csv')\n",
    "    delete_data = pd.concat([delete_data, metadatas])\n",
    "    delete_data.to_csv('DELETE.csv', index=False, encoding='utf-8')"
   ]
  },
  {
   "cell_type": "code",
   "execution_count": 4,
   "metadata": {},
   "outputs": [],
   "source": [
    "delete = pd.read_csv('DELETE.csv')\n",
    "delete = delete[delete['dataElement'] == 'bII4eG3osk5']"
   ]
  },
  {
   "cell_type": "code",
   "execution_count": 7,
   "metadata": {},
   "outputs": [],
   "source": [
    "delete['period'] = '2024Q4'"
   ]
  },
  {
   "cell_type": "code",
   "execution_count": 9,
   "metadata": {},
   "outputs": [],
   "source": [
    "delete.to_csv('/Users/steliomo/Documents/ANGOLA_TRACKER/2025Q1/V2/PMTCT_DELETE.csv', index=False)"
   ]
  }
 ],
 "metadata": {
  "kernelspec": {
   "display_name": "Python 3",
   "language": "python",
   "name": "python3"
  },
  "language_info": {
   "codemirror_mode": {
    "name": "ipython",
    "version": 3
   },
   "file_extension": ".py",
   "mimetype": "text/x-python",
   "name": "python",
   "nbconvert_exporter": "python",
   "pygments_lexer": "ipython3",
   "version": "3.13.0"
  }
 },
 "nbformat": 4,
 "nbformat_minor": 2
}
