{
 "cells": [
  {
   "cell_type": "code",
   "execution_count": null,
   "metadata": {},
   "outputs": [],
   "source": [
    "import pandas as pd\n",
    "from dhis2 import Api\n",
    "\n",
    "from src.main.common import FileUtil\n",
    "from src.main.application.income import *\n",
    "from src.main.application.service import *\n",
    "from src.infrastructure.forms import *\n",
    "from src.infrastructure.adapters import *"
   ]
  },
  {
   "cell_type": "code",
   "execution_count": null,
   "metadata": {},
   "outputs": [],
   "source": [
    "credentials  = FileUtil.load_credentias()\n",
    "username = credentials['username']\n",
    "password = credentials['password']\n",
    "\n",
    "url = 'https://dhis-ao.icap.columbia.edu'\n",
    "api = Api(url, username, password)"
   ]
  },
  {
   "cell_type": "code",
   "execution_count": null,
   "metadata": {},
   "outputs": [],
   "source": [
    "# Get the list of supported facilities\n",
    "org_unit = 'UnCWi0cmwXy'\n",
    "\n",
    "start_period = '2024-01-01'\n",
    "end_period = '2024-03-31'"
   ]
  },
  {
   "cell_type": "code",
   "execution_count": null,
   "metadata": {},
   "outputs": [],
   "source": [
    "#get all patient enrollments\n",
    "patients = api.get('tracker/enrollments', params={'orgUnit':org_unit, 'skipPaging':'true', 'program': CARE_AND_TREATMENT, 'fields':'{,enrollment, enrolledAt, trackedEntity, program, status,}'})\n",
    "patients = patients.json()['instances']\n",
    "\n",
    "for patient in patients:\n",
    "    patient_id = patient['trackedEntity']\n",
    "\n",
    "    patient_demographics = PatientDemographicForm(patient_id, org_unit, api)\n",
    "    patient_demographics.add_demographics(patient)\n",
    "\n",
    "    patient_consultation= PatientConsultationForm(patient_id, org_unit, api)\n",
    "    patient_consultation.add_first_consultation(patient)\n",
    "\n",
    "    patient_pharmacy_form =  PatientPharmacyForm(patient_id, org_unit, api)\n",
    "    patient_pharmacy_form.add_last_pharmacy(patient)\n",
    "\n",
    "    patient_laboratory_from =  PatientLaboratoryForm(patient_id, org_unit, api)\n",
    "    patient_laboratory_from.add_laboratory(patient)\n",
    "\n",
    "    patient_outcome_form =  PatientOutcomeForm(patient_id, org_unit, api)\n",
    "    patient_outcome_form.add_final_outcome(patient)"
   ]
  },
  {
   "cell_type": "code",
   "execution_count": null,
   "metadata": {},
   "outputs": [],
   "source": [
    "tx_curr_service = ComputeTxCurrService()\n",
    "tx_curr_service.compute(patients, end_period)\n",
    "\n",
    "tx_new = ComputeTxNewService(tx_curr_service)\n",
    "tx_new.compute(patients,start_period,end_period)\n",
    "\n",
    "tx_ml = ComputeTxMlService()\n",
    "tx_ml.compute(patients, start_period, end_period)\n",
    "\n",
    "laboratory_port = LaboratoryAdapter(patient_laboratory_from)\n",
    "tx_pvls_denominator = ComputeTxPvlsDenominatorService(tx_curr_service, laboratory_port)\n",
    "tx_pvls_denominator.compute(patients, end_period)\n",
    "\n",
    "tx_pvls_numerator = ComputeTxPvlsNumeratorService()\n",
    "tx_pvls_numerator.compute(patients)"
   ]
  },
  {
   "cell_type": "code",
   "execution_count": null,
   "metadata": {},
   "outputs": [],
   "source": [
    "data = pd.json_normalize(patients)\n",
    "data.to_excel('DATA.xlsx', index=False)"
   ]
  }
 ],
 "metadata": {
  "kernelspec": {
   "display_name": "Python 3",
   "language": "python",
   "name": "python3"
  },
  "language_info": {
   "codemirror_mode": {
    "name": "ipython",
    "version": 3
   },
   "file_extension": ".py",
   "mimetype": "text/x-python",
   "name": "python",
   "nbconvert_exporter": "python",
   "pygments_lexer": "ipython3",
   "version": "3.8.2"
  }
 },
 "nbformat": 4,
 "nbformat_minor": 2
}
